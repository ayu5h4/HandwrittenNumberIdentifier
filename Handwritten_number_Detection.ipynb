{
  "nbformat": 4,
  "nbformat_minor": 0,
  "metadata": {
    "colab": {
      "provenance": [],
      "gpuType": "T4"
    },
    "kernelspec": {
      "name": "python3",
      "display_name": "Python 3"
    },
    "language_info": {
      "name": "python"
    },
    "accelerator": "GPU"
  },
  "cells": [
    {
      "cell_type": "markdown",
      "source": [
        "# Handwritten Number Identification\n",
        "* Dataset Used : MNIST dataset from pytorch\n",
        "* Multiclass classification model\n",
        "> author : Ayush Ghodake\n",
        ">\n",
        "> github : ayu5h4\n"
      ],
      "metadata": {
        "id": "v82Kts43dOqd"
      }
    },
    {
      "cell_type": "markdown",
      "source": [
        "Dependencies"
      ],
      "metadata": {
        "id": "uUV7zR6DdyEt"
      }
    },
    {
      "cell_type": "code",
      "execution_count": null,
      "metadata": {
        "id": "9Qtp21TPdJNo"
      },
      "outputs": [],
      "source": [
        "import torch\n",
        "from torch import nn\n",
        "import torchvision\n",
        "from torchvision import transforms\n",
        "from torchvision import datasets\n",
        "from torchvision.transforms import ToTensor\n",
        "import matplotlib.pyplot as plt\n",
        "from torch.utils.data import DataLoader"
      ]
    },
    {
      "cell_type": "code",
      "source": [
        "# device agnostic code\n",
        "device=\"cuda\" if torch.cuda.is_available() else \"cpu\""
      ],
      "metadata": {
        "id": "X4T_jb_lxj31"
      },
      "execution_count": null,
      "outputs": []
    },
    {
      "cell_type": "code",
      "source": [
        "train_dataset = datasets.MNIST(\n",
        "    root=\"data\",\n",
        "    download=True,\n",
        "    transform=torchvision.transforms.ToTensor(),\n",
        "    target_transform=None,\n",
        "    train=True\n",
        ")"
      ],
      "metadata": {
        "id": "qUagwm-6e0_y",
        "colab": {
          "base_uri": "https://localhost:8080/"
        },
        "outputId": "9385c6b9-24fc-47cc-d5d5-e14de80dc37a"
      },
      "execution_count": null,
      "outputs": [
        {
          "output_type": "stream",
          "name": "stderr",
          "text": [
            "100%|██████████| 9.91M/9.91M [00:00<00:00, 16.0MB/s]\n",
            "100%|██████████| 28.9k/28.9k [00:00<00:00, 474kB/s]\n",
            "100%|██████████| 1.65M/1.65M [00:00<00:00, 4.46MB/s]\n",
            "100%|██████████| 4.54k/4.54k [00:00<00:00, 5.76MB/s]\n"
          ]
        }
      ]
    },
    {
      "cell_type": "code",
      "source": [
        "test_dataset = datasets.MNIST(\n",
        "    root=\"data\",\n",
        "    download=True,\n",
        "    transform=torchvision.transforms.ToTensor(),\n",
        "    target_transform=None,\n",
        "    train=False\n",
        ")"
      ],
      "metadata": {
        "id": "TaBURtDRe08R"
      },
      "execution_count": null,
      "outputs": []
    },
    {
      "cell_type": "code",
      "source": [
        "train_dataset,test_dataset"
      ],
      "metadata": {
        "colab": {
          "base_uri": "https://localhost:8080/"
        },
        "id": "OnC6zf3Ae05t",
        "outputId": "890fa04d-6f22-42de-f742-b4685536becd"
      },
      "execution_count": null,
      "outputs": [
        {
          "output_type": "execute_result",
          "data": {
            "text/plain": [
              "(Dataset MNIST\n",
              "     Number of datapoints: 60000\n",
              "     Root location: data\n",
              "     Split: Train\n",
              "     StandardTransform\n",
              " Transform: ToTensor(),\n",
              " Dataset MNIST\n",
              "     Number of datapoints: 10000\n",
              "     Root location: data\n",
              "     Split: Test\n",
              "     StandardTransform\n",
              " Transform: ToTensor())"
            ]
          },
          "metadata": {},
          "execution_count": 5
        }
      ]
    },
    {
      "cell_type": "code",
      "source": [
        "img,label=train_dataset[10]"
      ],
      "metadata": {
        "id": "Y3fpMp8SgRVJ"
      },
      "execution_count": null,
      "outputs": []
    },
    {
      "cell_type": "code",
      "source": [
        "img.shape,label"
      ],
      "metadata": {
        "colab": {
          "base_uri": "https://localhost:8080/"
        },
        "id": "Ui7St_wJg5NM",
        "outputId": "d9b2a11f-0521-40d7-d550-6b5d0b63bc8b"
      },
      "execution_count": null,
      "outputs": [
        {
          "output_type": "execute_result",
          "data": {
            "text/plain": [
              "(torch.Size([1, 28, 28]), 3)"
            ]
          },
          "metadata": {},
          "execution_count": 7
        }
      ]
    },
    {
      "cell_type": "code",
      "source": [
        "plt.imshow(img.squeeze(),cmap=\"gray\")"
      ],
      "metadata": {
        "colab": {
          "base_uri": "https://localhost:8080/",
          "height": 448
        },
        "id": "Y4y_0RKTij9n",
        "outputId": "32d4325b-49c6-4049-d5bd-762da59b00d5"
      },
      "execution_count": null,
      "outputs": [
        {
          "output_type": "execute_result",
          "data": {
            "text/plain": [
              "<matplotlib.image.AxesImage at 0x783e20a1b510>"
            ]
          },
          "metadata": {},
          "execution_count": 8
        },
        {
          "output_type": "display_data",
          "data": {
            "text/plain": [
              "<Figure size 640x480 with 1 Axes>"
            ],
            "image/png": "[encoded data removed]"
          },
          "metadata": {}
        }
      ]
    },
    {
      "cell_type": "code",
      "source": [
        "class_names=train_dataset.classes"
      ],
      "metadata": {
        "id": "7fzTHI2Gg7bv"
      },
      "execution_count": null,
      "outputs": []
    },
    {
      "cell_type": "code",
      "source": [
        "class_names"
      ],
      "metadata": {
        "colab": {
          "base_uri": "https://localhost:8080/"
        },
        "id": "InVcoFuXhKnx",
        "outputId": "25b1be1d-2832-4c2a-f2ea-6123e2b497fb"
      },
      "execution_count": null,
      "outputs": [
        {
          "output_type": "execute_result",
          "data": {
            "text/plain": [
              "['0 - zero',\n",
              " '1 - one',\n",
              " '2 - two',\n",
              " '3 - three',\n",
              " '4 - four',\n",
              " '5 - five',\n",
              " '6 - six',\n",
              " '7 - seven',\n",
              " '8 - eight',\n",
              " '9 - nine']"
            ]
          },
          "metadata": {},
          "execution_count": 10
        }
      ]
    },
    {
      "cell_type": "code",
      "source": [
        "# data is ready create dataloaders\n",
        "train_dataloader = DataLoader(\n",
        "    dataset=train_dataset,\n",
        "    batch_size=32,\n",
        "    shuffle=True,\n",
        ")\n",
        "test_dataloader=DataLoader(\n",
        "    dataset=test_dataset,\n",
        "    batch_size=32,\n",
        "    shuffle=True\n",
        ")"
      ],
      "metadata": {
        "id": "3QYzjxP_hLlv"
      },
      "execution_count": null,
      "outputs": []
    },
    {
      "cell_type": "code",
      "source": [
        "# dataloaders with batch size of 1875 we have 313 batches for training set\n",
        "len(train_dataloader)"
      ],
      "metadata": {
        "colab": {
          "base_uri": "https://localhost:8080/"
        },
        "id": "2QRpkUb0h4Nb",
        "outputId": "83e8867d-c7d3-4631-8e45-b0543e2d2322"
      },
      "execution_count": null,
      "outputs": [
        {
          "output_type": "execute_result",
          "data": {
            "text/plain": [
              "1875"
            ]
          },
          "metadata": {},
          "execution_count": 12
        }
      ]
    },
    {
      "cell_type": "code",
      "source": [
        "# dataloaders with batch size of 32 we have 313 batches for testing set\n",
        "len(test_dataloader)"
      ],
      "metadata": {
        "colab": {
          "base_uri": "https://localhost:8080/"
        },
        "id": "CFqKJvqYiAtj",
        "outputId": "11e0a8ac-675b-4c49-ef9e-f000670eba2b"
      },
      "execution_count": null,
      "outputs": [
        {
          "output_type": "execute_result",
          "data": {
            "text/plain": [
              "313"
            ]
          },
          "metadata": {},
          "execution_count": 13
        }
      ]
    },
    {
      "cell_type": "markdown",
      "source": [
        "#### For architecture of the model i will use tinyVgg\n",
        "* you can check this out at : https://poloclub.github.io/cnn-explainer/"
      ],
      "metadata": {
        "id": "hw7Sp56ci_L7"
      }
    },
    {
      "cell_type": "code",
      "source": [
        "# model\n",
        "class MNIST_model_54(nn.Module):\n",
        "  def __init__(self,\n",
        "               in_shape:int,\n",
        "               out_shape:int,\n",
        "               hidden_units:int):\n",
        "    super().__init__()\n",
        "    self.stack_1=nn.Sequential(\n",
        "        nn.Conv2d(\n",
        "            in_channels=in_shape,\n",
        "            out_channels=hidden_units,\n",
        "            kernel_size=(3,3),\n",
        "            stride=1,\n",
        "            padding=1\n",
        "        ),\n",
        "        nn.ReLU(),\n",
        "        nn.Conv2d(\n",
        "            in_channels=hidden_units,\n",
        "            out_channels=hidden_units,\n",
        "            kernel_size=(3,2),\n",
        "            stride=1,\n",
        "            padding=1\n",
        "        ),\n",
        "        nn.ReLU(),\n",
        "        nn.MaxPool2d(\n",
        "            kernel_size=2,\n",
        "            stride=1\n",
        "        )\n",
        "    )\n",
        "    self.stack_2=nn.Sequential(\n",
        "        nn.Conv2d(\n",
        "            in_channels=hidden_units,\n",
        "            out_channels=hidden_units,\n",
        "            kernel_size=3,\n",
        "            stride=1,\n",
        "            padding=1\n",
        "        ),\n",
        "        nn.ReLU(),\n",
        "        nn.MaxPool2d(\n",
        "            kernel_size=2,\n",
        "            stride=1\n",
        "        )\n",
        "    )\n",
        "    self.classification=nn.Sequential(\n",
        "        nn.Flatten(),\n",
        "        nn.Linear(\n",
        "            in_features=7020, #size of out vector after passing through flatten ()\n",
        "            out_features=out_shape\n",
        "        )\n",
        "    )\n",
        "  def forward(self,x):\n",
        "    x=self.stack_1(x)\n",
        "    x=self.stack_2(x)\n",
        "    x=self.classification(x)\n",
        "    return x"
      ],
      "metadata": {
        "id": "Po7oS25NiOs4"
      },
      "execution_count": null,
      "outputs": []
    },
    {
      "cell_type": "code",
      "source": [
        "model=MNIST_model_54(\n",
        "    in_shape=1,\n",
        "    hidden_units=10,\n",
        "    out_shape=len(class_names)\n",
        ")"
      ],
      "metadata": {
        "id": "s3aVnZvun0Zq"
      },
      "execution_count": 126,
      "outputs": []
    },
    {
      "cell_type": "code",
      "source": [
        "model"
      ],
      "metadata": {
        "colab": {
          "base_uri": "https://localhost:8080/"
        },
        "id": "xWo4w7WHos05",
        "outputId": "a74f9505-b926-458d-8d98-266e44260207"
      },
      "execution_count": 127,
      "outputs": [
        {
          "output_type": "execute_result",
          "data": {
            "text/plain": [
              "MNIST_model_54(\n",
              "  (stack_1): Sequential(\n",
              "    (0): Conv2d(1, 10, kernel_size=(3, 3), stride=(1, 1), padding=(1, 1))\n",
              "    (1): ReLU()\n",
              "    (2): Conv2d(10, 10, kernel_size=(3, 2), stride=(1, 1), padding=(1, 1))\n",
              "    (3): ReLU()\n",
              "    (4): MaxPool2d(kernel_size=2, stride=1, padding=0, dilation=1, ceil_mode=False)\n",
              "  )\n",
              "  (stack_2): Sequential(\n",
              "    (0): Conv2d(10, 10, kernel_size=(3, 3), stride=(1, 1), padding=(1, 1))\n",
              "    (1): ReLU()\n",
              "    (2): MaxPool2d(kernel_size=2, stride=1, padding=0, dilation=1, ceil_mode=False)\n",
              "  )\n",
              "  (classification): Sequential(\n",
              "    (0): Flatten(start_dim=1, end_dim=-1)\n",
              "    (1): Linear(in_features=7020, out_features=10, bias=True)\n",
              "  )\n",
              ")"
            ]
          },
          "metadata": {},
          "execution_count": 127
        }
      ]
    },
    {
      "cell_type": "code",
      "source": [
        "rand_img=torch.randn(size=(1,28,28))"
      ],
      "metadata": {
        "id": "GTgHGpi5pkrj"
      },
      "execution_count": null,
      "outputs": []
    },
    {
      "cell_type": "code",
      "source": [
        "pred = model(img.unsqueeze(0))"
      ],
      "metadata": {
        "id": "Tkbv8NBOpszF"
      },
      "execution_count": null,
      "outputs": []
    },
    {
      "cell_type": "code",
      "source": [
        "pred.argmax()"
      ],
      "metadata": {
        "colab": {
          "base_uri": "https://localhost:8080/"
        },
        "id": "yD9jttHTrC81",
        "outputId": "530e6f25-af85-419d-ad51-7ad58d192be7"
      },
      "execution_count": null,
      "outputs": [
        {
          "output_type": "execute_result",
          "data": {
            "text/plain": [
              "tensor(1)"
            ]
          },
          "metadata": {},
          "execution_count": 19
        }
      ]
    },
    {
      "cell_type": "code",
      "source": [
        "# to choose our loss function and optimizer\n",
        "loss_fn=nn.CrossEntropyLoss()\n",
        "\n",
        "optimizer = torch.optim.SGD(\n",
        "    params=model.parameters(),\n",
        "    lr=0.1\n",
        ")"
      ],
      "metadata": {
        "id": "A7TcGjSytyws"
      },
      "execution_count": null,
      "outputs": []
    },
    {
      "cell_type": "code",
      "source": [
        "# training and testing loop\n",
        "def train_model(model:torch.nn.Module,\n",
        "                data_loader,\n",
        "                loss_fn=loss_fn,\n",
        "                optimizer=optimizer):\n",
        "  train_loss = 0\n",
        "  model.to(device)\n",
        "  model.train()\n",
        "  for batch ,(x,y) in enumerate(data_loader):\n",
        "    x,y=x.to(device),y.to(device)\n",
        "    y_preds=model(x)\n",
        "    loss=loss_fn(y_preds,y)\n",
        "    train_loss += loss\n",
        "    optimizer.zero_grad()\n",
        "    loss.backward()\n",
        "    optimizer.step()\n",
        "    if batch % 300 == 0 :\n",
        "      print(f\"loss for batch {batch} = {loss}\")\n",
        "  train_loss/= len(data_loader)\n",
        "  print(f\"average data loss per epoch = {train_loss}\")\n",
        "\n",
        "def test_model(model:torch.nn.Module,\n",
        "               data_loader,\n",
        "               loss_fn=loss_fn):\n",
        "  model.to(device)\n",
        "  model.eval()\n",
        "  with torch.inference_mode():\n",
        "    test_loss=0\n",
        "    for batch,(x,y) in enumerate(data_loader):\n",
        "      x,y=x.to(device),y.to(device)\n",
        "      y_preds=model(x)\n",
        "      t_loss = loss_fn(y_preds,y)\n",
        "      test_loss+=t_loss\n",
        "      if batch % 300 == 0 :\n",
        "        print(f\"training loss for batch {batch} = {t_loss}\")\n",
        "    test_loss /= len(data_loader)"
      ],
      "metadata": {
        "id": "uKfz4G8RsK4A"
      },
      "execution_count": null,
      "outputs": []
    },
    {
      "cell_type": "code",
      "source": [
        "# to train out model\n",
        "\n",
        "epochs = 3\n",
        "for epoch in range(epochs):\n",
        "  train_model(\n",
        "      model=model,\n",
        "      data_loader=train_dataloader\n",
        "  )\n",
        "  test_model(\n",
        "      model=model,\n",
        "      data_loader=test_dataloader\n",
        "  )\n"
      ],
      "metadata": {
        "colab": {
          "base_uri": "https://localhost:8080/"
        },
        "id": "OOYzhZskwjT6",
        "outputId": "20afd544-faa5-4715-8400-29ce6be65053"
      },
      "execution_count": null,
      "outputs": [
        {
          "output_type": "stream",
          "name": "stdout",
          "text": [
            "loss for batch 0 = 0.03378109633922577\n",
            "loss for batch 300 = 0.008544323034584522\n",
            "loss for batch 600 = 0.0023615597747266293\n",
            "loss for batch 900 = 0.09533832222223282\n",
            "loss for batch 1200 = 0.11062023043632507\n",
            "loss for batch 1500 = 0.07364770025014877\n",
            "loss for batch 1800 = 0.010120691731572151\n",
            "average data loss per epoch = 0.056244272738695145\n",
            "training loss for batch 0 = 0.019087808206677437\n",
            "training loss for batch 300 = 0.008359403349459171\n",
            "loss for batch 0 = 0.007552744820713997\n",
            "loss for batch 300 = 0.0036176417488604784\n",
            "loss for batch 600 = 0.019709788262844086\n",
            "loss for batch 900 = 0.02530033327639103\n",
            "loss for batch 1200 = 0.012884731404483318\n",
            "loss for batch 1500 = 0.0036662353668361902\n",
            "loss for batch 1800 = 0.07728345692157745\n",
            "average data loss per epoch = 0.05034657195210457\n",
            "training loss for batch 0 = 0.0018965690396726131\n",
            "training loss for batch 300 = 0.025547586381435394\n",
            "loss for batch 0 = 0.04463809356093407\n",
            "loss for batch 300 = 0.021991288289427757\n",
            "loss for batch 600 = 0.08094676584005356\n",
            "loss for batch 900 = 0.002562060486525297\n",
            "loss for batch 1200 = 0.11200851202011108\n",
            "loss for batch 1500 = 0.006767068058252335\n",
            "loss for batch 1800 = 0.01861310750246048\n",
            "average data loss per epoch = 0.045288942754268646\n",
            "training loss for batch 0 = 0.0013157062930986285\n",
            "training loss for batch 300 = 0.0038253553211688995\n"
          ]
        }
      ]
    },
    {
      "cell_type": "code",
      "source": [
        "# display model on device if needed\n",
        "print(f\"Model on device:\\n{next(model.parameters()).device}\")"
      ],
      "metadata": {
        "colab": {
          "base_uri": "https://localhost:8080/"
        },
        "id": "wYn5YCAj80H4",
        "outputId": "748d06c8-86b5-42ac-da32-c17e316ced7a"
      },
      "execution_count": 131,
      "outputs": [
        {
          "output_type": "stream",
          "name": "stdout",
          "text": [
            "Model on device:\n",
            "cpu\n"
          ]
        }
      ]
    },
    {
      "cell_type": "code",
      "source": [
        "from pathlib import Path\n",
        "\n",
        "# 1. Create models directory\n",
        "MODEL_PATH = Path(\"models\")\n",
        "MODEL_PATH.mkdir(parents=True, exist_ok=True)\n",
        "\n",
        "# 2. Create model save path\n",
        "MODEL_NAME = \"01_pytorch_workflow_model.pth\"\n",
        "MODEL_SAVE_PATH = MODEL_PATH / MODEL_NAME\n",
        "\n",
        "# 3. Save the model state dict\n",
        "print(f\"Saving model to: {MODEL_SAVE_PATH}\")\n",
        "torch.save(obj=model.state_dict(), # only saving the state_dict() only saves the models learned parameters\n",
        "           f=MODEL_SAVE_PATH)"
      ],
      "metadata": {
        "id": "Bh7kvXeDxN4Q",
        "colab": {
          "base_uri": "https://localhost:8080/"
        },
        "outputId": "0b96cd00-255a-4eb6-c3de-b11f10445dce"
      },
      "execution_count": 132,
      "outputs": [
        {
          "output_type": "stream",
          "name": "stdout",
          "text": [
            "Saving model to: models/01_pytorch_workflow_model.pth\n"
          ]
        }
      ]
    },
    {
      "cell_type": "code",
      "source": [
        "# Instantiate a fresh instance of LinearRegressionModelV2\n",
        "# Load model state dict\n",
        "model.load_state_dict(torch.load(\"/content/01_pytorch_workflow_model_0.pth\", map_location=torch.device('cpu')))\n",
        "\n",
        "print(f\"Loaded model:\\n{model}\")\n",
        "print(f\"Model on device:\\n{next(model.parameters())}\")"
      ],
      "metadata": {
        "id": "gy5GB3rez6HP",
        "colab": {
          "base_uri": "https://localhost:8080/"
        },
        "outputId": "95b71cd9-2507-4fe3-8391-1d2ec1217bb4"
      },
      "execution_count": 134,
      "outputs": [
        {
          "output_type": "stream",
          "name": "stdout",
          "text": [
            "Loaded model:\n",
            "MNIST_model_54(\n",
            "  (stack_1): Sequential(\n",
            "    (0): Conv2d(1, 10, kernel_size=(3, 3), stride=(1, 1), padding=(1, 1))\n",
            "    (1): ReLU()\n",
            "    (2): Conv2d(10, 10, kernel_size=(3, 2), stride=(1, 1), padding=(1, 1))\n",
            "    (3): ReLU()\n",
            "    (4): MaxPool2d(kernel_size=2, stride=1, padding=0, dilation=1, ceil_mode=False)\n",
            "  )\n",
            "  (stack_2): Sequential(\n",
            "    (0): Conv2d(10, 10, kernel_size=(3, 3), stride=(1, 1), padding=(1, 1))\n",
            "    (1): ReLU()\n",
            "    (2): MaxPool2d(kernel_size=2, stride=1, padding=0, dilation=1, ceil_mode=False)\n",
            "  )\n",
            "  (classification): Sequential(\n",
            "    (0): Flatten(start_dim=1, end_dim=-1)\n",
            "    (1): Linear(in_features=7020, out_features=10, bias=True)\n",
            "  )\n",
            ")\n",
            "Model on device:\n",
            "Parameter containing:\n",
            "tensor([[[[ 0.3178, -0.0969,  0.2284],\n",
            "          [-0.2875,  0.2533, -0.0597],\n",
            "          [ 0.1905, -0.0598, -0.3714]]],\n",
            "\n",
            "\n",
            "        [[[-0.1793, -0.0884,  0.2056],\n",
            "          [-0.2966, -0.3149, -0.1699],\n",
            "          [-0.2240, -0.2034,  0.4687]]],\n",
            "\n",
            "\n",
            "        [[[-0.2564, -0.4090, -0.7481],\n",
            "          [ 0.3030, -0.3995,  0.1777],\n",
            "          [ 0.5416,  0.7691,  0.0662]]],\n",
            "\n",
            "\n",
            "        [[[-0.1619, -0.2578, -0.2117],\n",
            "          [-0.1376, -0.1787, -0.2312],\n",
            "          [-0.3021,  0.0361,  0.3240]]],\n",
            "\n",
            "\n",
            "        [[[-0.1819, -0.1290, -0.8137],\n",
            "          [ 0.4540,  0.1959, -0.2776],\n",
            "          [ 0.9837, -0.6352, -0.7301]]],\n",
            "\n",
            "\n",
            "        [[[-0.8153, -0.4989, -0.1217],\n",
            "          [-0.4104, -0.2808,  0.4490],\n",
            "          [-0.1936,  0.1752,  0.4292]]],\n",
            "\n",
            "\n",
            "        [[[ 0.2827,  0.3509,  0.3762],\n",
            "          [-0.3906,  0.1180,  0.1930],\n",
            "          [-0.8602, -0.8077, -0.2721]]],\n",
            "\n",
            "\n",
            "        [[[-0.2603, -0.1068,  0.0984],\n",
            "          [-0.3003,  0.0246,  0.0168],\n",
            "          [ 0.2221, -0.0490, -0.2478]]],\n",
            "\n",
            "\n",
            "        [[[-0.3267, -0.2696,  0.5637],\n",
            "          [ 0.0473,  0.1336,  0.5983],\n",
            "          [-0.8464, -0.6678,  0.2392]]],\n",
            "\n",
            "\n",
            "        [[[-0.7599, -0.3232,  0.1625],\n",
            "          [-0.4762, -0.1382,  0.3904],\n",
            "          [ 0.4024,  0.2266,  0.6510]]]], requires_grad=True)\n"
          ]
        }
      ]
    },
    {
      "cell_type": "code",
      "source": [
        "model"
      ],
      "metadata": {
        "colab": {
          "base_uri": "https://localhost:8080/"
        },
        "id": "OjLx7r7E8Grh",
        "outputId": "8bb81094-a072-4f36-db26-41f47b87741f"
      },
      "execution_count": 128,
      "outputs": [
        {
          "output_type": "execute_result",
          "data": {
            "text/plain": [
              "MNIST_model_54(\n",
              "  (stack_1): Sequential(\n",
              "    (0): Conv2d(1, 10, kernel_size=(3, 3), stride=(1, 1), padding=(1, 1))\n",
              "    (1): ReLU()\n",
              "    (2): Conv2d(10, 10, kernel_size=(3, 2), stride=(1, 1), padding=(1, 1))\n",
              "    (3): ReLU()\n",
              "    (4): MaxPool2d(kernel_size=2, stride=1, padding=0, dilation=1, ceil_mode=False)\n",
              "  )\n",
              "  (stack_2): Sequential(\n",
              "    (0): Conv2d(10, 10, kernel_size=(3, 3), stride=(1, 1), padding=(1, 1))\n",
              "    (1): ReLU()\n",
              "    (2): MaxPool2d(kernel_size=2, stride=1, padding=0, dilation=1, ceil_mode=False)\n",
              "  )\n",
              "  (classification): Sequential(\n",
              "    (0): Flatten(start_dim=1, end_dim=-1)\n",
              "    (1): Linear(in_features=7020, out_features=10, bias=True)\n",
              "  )\n",
              ")"
            ]
          },
          "metadata": {},
          "execution_count": 128
        }
      ]
    },
    {
      "cell_type": "code",
      "source": [
        "def make_predictions(model: torch.nn.Module, data: list, device: torch.device = device):\n",
        "    pred_probs = []\n",
        "    model.eval()\n",
        "    with torch.inference_mode():\n",
        "        for sample in data:\n",
        "            # Prepare sample\n",
        "            sample = torch.unsqueeze(sample, dim=0).to(device) # Add an extra dimension and send sample to device\n",
        "\n",
        "            # Forward pass (model outputs raw logit)\n",
        "            pred_logit = model(sample)\n",
        "\n",
        "            # Get prediction probability (logit -> prediction probability)\n",
        "            pred_prob = torch.softmax(pred_logit.squeeze(), dim=0) # note: perform softmax on the \"logits\" dimension, not \"batch\" dimension (in this case we have a batch size of 1, so can perform on dim=0)\n",
        "\n",
        "            # Get pred_prob off GPU for further calculations\n",
        "            pred_probs.append(pred_prob.cpu())\n",
        "\n",
        "    # Stack the pred_probs to turn list into a tensor\n",
        "    return torch.stack(pred_probs)"
      ],
      "metadata": {
        "id": "shJqPMwU-M-d"
      },
      "execution_count": 138,
      "outputs": []
    },
    {
      "cell_type": "code",
      "source": [
        "import random\n",
        "random.seed(42)\n",
        "test_samples = []\n",
        "test_labels = []\n",
        "for sample, label in random.sample(list(test_dataset), k=9):\n",
        "    test_samples.append(sample)\n",
        "    test_labels.append(label)\n",
        "\n",
        "# View the first test sample shape and label\n",
        "pred_probs= make_predictions(model=model,\n",
        "                             data=test_samples)\n",
        "pred_classes = pred_probs.argmax(dim=1)"
      ],
      "metadata": {
        "colab": {
          "base_uri": "https://localhost:8080/"
        },
        "id": "UNKAoB4F-C0f",
        "outputId": "fd12e889-ef7b-4f78-abe7-730208771662"
      },
      "execution_count": 139,
      "outputs": [
        {
          "output_type": "stream",
          "name": "stdout",
          "text": [
            "Test sample image shape: torch.Size([1, 28, 28])\n",
            "Test sample label: 2 (2 - two)\n"
          ]
        },
        {
          "output_type": "execute_result",
          "data": {
            "text/plain": [
              "tensor([2, 1, 2, 4, 6, 6, 4, 9, 1])"
            ]
          },
          "metadata": {},
          "execution_count": 139
        }
      ]
    },
    {
      "cell_type": "code",
      "source": [],
      "metadata": {
        "id": "ZkyyQcaK-CxD"
      },
      "execution_count": 139,
      "outputs": []
    },
    {
      "cell_type": "code",
      "source": [
        "import random\n",
        "# random.seed(42)\n",
        "test_samples = []\n",
        "test_labels = []\n",
        "for sample, label in random.sample(list(test_dataset), k=9):\n",
        "    test_samples.append(sample)\n",
        "    test_labels.append(label)\n",
        "\n",
        "pred_probs= make_predictions(model=model,\n",
        "                             data=test_samples)\n",
        "pred_classes = pred_probs.argmax(dim=1)\n",
        "plt.figure(figsize=(9, 9))\n",
        "nrows = 3\n",
        "ncols = 3\n",
        "for i, sample in enumerate(test_samples):\n",
        "  # Create a subplot\n",
        "  plt.subplot(nrows, ncols, i+1)\n",
        "\n",
        "  # Plot the target image\n",
        "  plt.imshow(sample.squeeze(), cmap=\"gray\")\n",
        "\n",
        "  # Find the prediction label (in text form, e.g. \"Sandal\")\n",
        "  pred_label = class_names[pred_classes[i]]\n",
        "\n",
        "  # Get the truth label (in text form, e.g. \"T-shirt\")\n",
        "  truth_label = class_names[test_labels[i]]\n",
        "\n",
        "  # Create the title text of the plot\n",
        "  title_text = f\"Pred: {pred_label} | Truth: {truth_label}\"\n",
        "\n",
        "  # Check for equality and change title colour accordingly\n",
        "  if pred_label == truth_label:\n",
        "      plt.title(title_text, fontsize=10, c=\"g\") # green text if correct\n",
        "  else:\n",
        "      plt.title(title_text, fontsize=10, c=\"r\") # red text if wrong\n",
        "  plt.axis(False);"
      ],
      "metadata": {
        "colab": {
          "base_uri": "https://localhost:8080/",
          "height": 749
        },
        "id": "DjacVgDA89uF",
        "outputId": "c7bdf995-f5ae-41bf-e5a8-ecfb2d8778a3"
      },
      "execution_count": 149,
      "outputs": [
        {
          "output_type": "display_data",
          "data": {
            "text/plain": [
              "<Figure size 900x900 with 9 Axes>"
            ],
            "image/png": "[encoded data removed]"
          },
          "metadata": {}
        }
      ]
    },
    {
      "cell_type": "code",
      "source": [],
      "metadata": {
        "id": "cLvOEGXW9co8"
      },
      "execution_count": 144,
      "outputs": []
    },
    {
      "cell_type": "code",
      "source": [],
      "metadata": {
        "id": "kGbKkMzX9dLd"
      },
      "execution_count": 144,
      "outputs": []
    }
  ]
}